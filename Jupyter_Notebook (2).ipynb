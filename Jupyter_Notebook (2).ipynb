{
  "metadata": {
    "kernelspec": {
      "name": "python",
      "display_name": "Pyolite",
      "language": "python"
    },
    "language_info": {
      "codemirror_mode": {
        "name": "python",
        "version": 3
      },
      "file_extension": ".py",
      "mimetype": "text/x-python",
      "name": "python",
      "nbconvert_exporter": "python",
      "pygments_lexer": "ipython3",
      "version": "3.8"
    }
  },
  "nbformat_minor": 4,
  "nbformat": 4,
  "cells": [
    {
      "cell_type": "markdown",
      "source": "<center>\n    <img src=\"https://s3-api.us-geo.objectstorage.softlayer.net/cf-courses-data/CognitiveClass/Logos/organization_logo/organization_logo.png\" width=\"300\" alt=\"cognitiveclass.ai logo\"  />\n</center>\n",
      "metadata": {}
    },
    {
      "cell_type": "markdown",
      "source": "#### Add your code below following the instructions given in the course\n",
      "metadata": {}
    },
    {
      "cell_type": "markdown",
      "source": "# My Jupyter Notebook on IBM Watson Studio",
      "metadata": {
        "tags": []
      }
    },
    {
      "cell_type": "markdown",
      "source": "<b>Alison Wensink</b> \n<br>Business Consultant",
      "metadata": {
        "tags": []
      }
    },
    {
      "cell_type": "markdown",
      "source": "*I am interested in data science because it is an interesting and growing field. These skills will help me further my career working in public health informatics.*",
      "metadata": {}
    },
    {
      "cell_type": "markdown",
      "source": "### Cell 5 is a math equation for 25 - 10",
      "metadata": {}
    },
    {
      "cell_type": "code",
      "source": "25 - 10",
      "metadata": {
        "tags": [],
        "trusted": true
      },
      "execution_count": 13,
      "outputs": [
        {
          "execution_count": 13,
          "output_type": "execute_result",
          "data": {
            "text/plain": "15"
          },
          "metadata": {}
        }
      ]
    },
    {
      "cell_type": "markdown",
      "source": "Here is a bulleted list:\n* Red\n* Blue\n* Yellow\n\nHere is a numbered list:\n1. Apple\n2. Blueberry\n3. Banana\n\nHere is a table:\n\n|Fruit||Colour|\n|---||---|\n|Apple||Red|\n|Blueberry||Blue|\n|Banana||Yellow|\n\n<br><strike>Strikethrough</strike>\n<br>[Hyperlink to Coursera](https://www.coursera.org/programs/data-science-dghog?currentTab=CATALOG)\n<br>![coursera.jpeg](attachment:3843bff5-2847-42d0-9d13-933248e7d1c5.jpeg)\n> Blockquote",
      "metadata": {},
      "attachments": {
        "3843bff5-2847-42d0-9d13-933248e7d1c5.jpeg": {
          "image/jpeg": "[encoded data removed]"
        }
      }
    },
    {
      "cell_type": "code",
      "source": "",
      "metadata": {},
      "execution_count": null,
      "outputs": []
    }
  ]
}